{
    "cells": [
        {
            "attachments": {},
            "cell_type": "markdown",
            "metadata": {
                "azdata_cell_guid": "5a9661f6-9c22-438b-8530-debb92fea2ff"
            },
            "source": [
                "# NOTEBOOK 03 - PARTE I Ejecución Condicional, Bucles, Listas y su Procesamiento\n",
                "\n",
                "## Fundamentos de Python | UMCA\n",
                "\n",
                "## Profesor: Ing. Andrés Mena Abarca\n",
                "\n",
                "### <mark>**Nombre del estudiante:**</mark>\n",
                "\n",
                "* * *\n",
                "\n",
                "## **1\\. Valores Booleanos**\n",
                "\n",
                "### 1.1. **Teoría**\n",
                "\n",
                "En Python, los valores booleanos son un tipo de dato que solo pueden tener dos valores: `True` (verdadero) y `False` (falso). Estos valores son fundamentales para el control de flujo en los programas, permitiendo que se tomen decisiones basadas en condiciones.\n",
                "\n",
                "- `True` y `False` son palabras clave en Python.\n",
                "- Se usan principalmente en expresiones condicionales y bucles.\n",
                "\n",
                "#### **Operadores de comparación**: Estos operadores devuelven un valor booleano como resultado de comparar dos valores.\n",
                "\n",
                "- `==` (igual a)\n",
                "- `!=` (diferente de)\n",
                "- `<`, `>`, `<=`, `>=` (menor, mayor, menor o igual, mayor o igual)\n",
                "\n",
                "### 1.2. **Ejemplo de Código**"
            ]
        },
        {
            "cell_type": "code",
            "execution_count": null,
            "metadata": {
                "azdata_cell_guid": "65553934-e4e4-4b44-aa2e-b234d1a33667",
                "language": "python"
            },
            "outputs": [],
            "source": [
                "# Ejemplo de valores booleanos\n",
                "x = 10\n",
                "y = 20\n",
                "\n",
                "# Operación de comparación\n",
                "es_mayor = x > y  # False porque 10 no es mayor que 20\n",
                "es_igual = x == y  # False porque 10 no es igual a 20\n",
                "\n",
                "print(f\"¿Es {x} mayor que {y}? {es_mayor}\")\n",
                "print(f\"¿Es {x} igual a {y}? {es_igual}\")\n"
            ]
        },
        {
            "attachments": {},
            "cell_type": "markdown",
            "metadata": {
                "azdata_cell_guid": "e75d82f8-c903-459c-b6b4-3cdc9d23ac5c"
            },
            "source": [
                "### <mark>1.3. **Ejercicio Práctico**</mark>\n",
                "\n",
                "**Caso de Aplicación: Evaluación de Edades para una Competencia Deportiva**\n",
                "\n",
                "Imagina que estás organizando una competencia deportiva y necesitas verificar si un participante es elegible para competir en una categoría específica de edad. En esta categoría, los participantes deben tener entre **18 y 30 años** (inclusive). También se deben evaluar dos edades de los participantes, para ver quién es mayor o si tienen la misma edad.\n",
                "\n",
                "El ejercicio requerirá:\n",
                "\n",
                "- Evaluar si un participante es elegible para competir según su edad.\n",
                "- Comparar las edades de dos participantes para determinar quién es mayor.\n",
                "\n",
                "**Proceso**\n",
                "\n",
                "1. **Solicita** <span style=\"color: var(--vscode-foreground);\"> al usuario que ingrese la edad de dos participantes (edad1 y edad2).</span>\n",
                "2. **Verifica** <span style=\"color: var(--vscode-foreground);\"> si cada uno de ellos es elegible para la competencia (la edad debe estar entre 18 y 30 años inclusive).</span>\n",
                "\n",
                "3. **Compara** las edades de los dos participantes:\n",
                "        - ¿Quién es mayor?\n",
                "        - ¿Son de la misma edad?\n",
                "4. **Imprime** resultados detallados de las evaluaciones."
            ]
        },
        {
            "cell_type": "code",
            "execution_count": 5,
            "metadata": {
                "azdata_cell_guid": "26417c6c-aa5d-41a9-b7c7-fa268a476a6d",
                "language": "python"
            },
            "outputs": [
                {
                    "name": "stdout",
                    "output_type": "stream",
                    "text": [
                        "La edad del participante 1 no cumple los requisitos\n",
                        "El participante2 puede ingresar a la carrera!\n",
                        "Participante 2 mayor\n"
                    ]
                }
            ],
            "source": [
                "#Respuesta\n",
                "#ENTRADAS\n",
                "edad1 = int(input(\"Ingrese la edad del primer participante: \"))\n",
                "edad2 = int(input(\"Ingrese la edad del segundo participante: \"))\n",
                "\n",
                "#PROCESOS\n",
                "if (edad1 < 30 and edad1 > 18):\n",
                "    print('El participante1 puede ingresar a la carrera!')\n",
                "else:\n",
                "    print(\"La edad del participante 1 no cumple los requisitos\")\n",
                "    \n",
                "    \n",
                " #PROCESOS\n",
                "if (edad2 < 30 and edad2 > 18):\n",
                "    print('El participante2 puede ingresar a la carrera!')\n",
                "else:\n",
                "    print(\"La edad del participante 2 no cumple los requisitos\")  \n",
                "    \n",
                "#Comparar las edaddes\n",
                "#edad1 > edad2\n",
                "\n",
                "if edad1 > edad2 :\n",
                "    print(\"participante 1 mayor\")\n",
                "elif edad2 > edad1 :\n",
                "        print(\"Participante 2 mayor\")\n",
                "else:\n",
                "    print(\"La misma edad\")\n",
                "    \n",
                "    \n"
            ]
        },
        {
            "attachments": {},
            "cell_type": "markdown",
            "metadata": {
                "azdata_cell_guid": "7d08ceac-43f5-4144-9a55-2524859d645c"
            },
            "source": [
                "## **2\\. Ejecución Condicional**\n",
                "\n",
                "### 2.1. **Teoría**\n",
                "\n",
                "La ejecución condicional permite que el programa tome decisiones y ejecute diferentes bloques de código basados en ciertas condiciones. En Python, las estructuras condicionales más comunes son `if`, `elif` (else if) y `else`.\n",
                "\n",
                "### **Estructura básica:**\n",
                "\n",
                "```Python\n",
                "if condición:\n",
                "    # Código si la condición es True\n",
                "elif otra_condición:\n",
                "    # Código si otra_condición es True\n",
                "else:\n",
                "    # Código si ninguna condición es True \n",
                "\n",
                "```\n",
                "\n",
                "### 2.2. **Ejemplo de Código: Clasificación de Calificaciones**\n",
                "\n",
                "#### **Contexto:**\n",
                "\n",
                "Imagina que estás desarrollando un sistema para clasificar las calificaciones de un grupo de estudiantes. El sistema debe recibir una calificación y asignar una letra basada en la siguiente escala:\n",
                "\n",
                "- Si la calificación es mayor o igual a 90, el estudiante obtiene una **A**.\n",
                "- Si la calificación está entre 80 y 89, el estudiante obtiene una **B**.\n",
                "- Si la calificación está entre 70 y 79, el estudiante obtiene una **C**.\n",
                "- Si la calificación está entre 60 y 69, el estudiante obtiene una **D**.\n",
                "- Si la calificación es menor que 60, el estudiante obtiene una **F**.\n",
                "\n",
                "### **Estructura Condicional**\n",
                "\n",
                "Usaremos una serie de sentencias `if`, `elif` y `else` para implementar esta lógica."
            ]
        },
        {
            "cell_type": "code",
            "execution_count": null,
            "metadata": {
                "azdata_cell_guid": "ac546c59-6cc2-47f1-8b71-daeb61c6475c",
                "language": "python"
            },
            "outputs": [
                {
                    "name": "stdout",
                    "output_type": "stream",
                    "text": [
                        "La calificación es C\n"
                    ]
                }
            ],
            "source": [
                "#Respuesta\n",
                "# Ejemplo mejorado: Clasificación de calificaciones de un estudiante\n",
                "# Solicitar al usuario la calificación\n",
                "\n",
                "calificacion = float(input(\"Introduce la calificación del estudiante: \"))\n",
                "\n",
                "# Clasificación según la calificación\n",
                "if calificacion >= 90:\n",
                "    print(\"La calificación es A\")\n",
                "elif calificacion >= 80:\n",
                "    print(\"La calificación es B\")\n",
                "elif calificacion >= 70:\n",
                "    print(\"La calificación es C\")\n",
                "elif calificacion >= 60:\n",
                "    print(\"La calificación es D\")\n",
                "else:\n",
                "    print(\"La calificación es F\")\n"
            ]
        },
        {
            "attachments": {},
            "cell_type": "markdown",
            "metadata": {
                "azdata_cell_guid": "90552ad9-627b-42bd-84b0-f87e15cfe087"
            },
            "source": [
                "### <mark>2.3. **Ejercicio Práctico**</mark>\n",
                "\n",
                "### Escribe un programa que pida al usuario ingresar su edad. Luego, el programa debe imprimir si es mayor o menor de edad (asumiendo 18 años como el límite).\n",
                "\n",
                "- El programa pide al usuario ingresar su edad.\n",
                "- Si el usuario ingresa un valor no válido (por ejemplo, texto o números negativos), le solicita nuevamente que ingrese un número válido.\n",
                "- Dependiendo de la edad ingresada, el programa:\n",
                "    - Imprime si es \"menor de edad\" (menor de 18).\n",
                "    - Imprime si es \"mayor de edad\" (18 años o más).\n",
                "    - Opcionalmente, imprime un mensaje especial para niños menores de 13 años o personas mayores de 65 años.\n",
                "- Permite que el usuario repita el proceso tantas veces como desee. \\*\\*\\*OPCIONAL"
            ]
        },
        {
            "cell_type": "code",
            "execution_count": 20,
            "metadata": {},
            "outputs": [
                {
                    "name": "stdout",
                    "output_type": "stream",
                    "text": [
                        "Error: Porvaor ingrese un valor númerico\n",
                        "Error: Porvaor ingrese un valor númerico\n",
                        "Error: Porvaor ingrese un valor númerico\n",
                        "Error: Porvaor ingrese un valor númerico\n",
                        "Tienes 64 años. Eres mayor de edad.\n",
                        "Gracias por usar el programa. Hasta Luego!\n"
                    ]
                }
            ],
            "source": [
                "# Declaración de variables\n",
                "# Ejercicio para verificar si una persona es mayor o menor de edad\n",
                "while True:\n",
                "    try:\n",
                "        edad = int(input(\"Por favor, ingresa tu edad: \"))\n",
                "        #Validaciones ---------------------------------------\n",
                "        if not(edad > 0 and edad <= 130):\n",
                "            print('Edad Ingresa no Válida!, ingrese nuevamente la edad')\n",
                "            continue\n",
                "\n",
                "        # Evaluar la edad ingresada\n",
                "        if edad < 13:\n",
                "            print(f\"Tienes {edad} años. Eres un niño/a.\")\n",
                "        elif edad < 18:\n",
                "            print(f\"Tienes {edad} años. Eres menor de edad.\")\n",
                "        elif edad < 65:\n",
                "            print(f\"Tienes {edad} años. Eres mayor de edad.\")\n",
                "        else:\n",
                "            print(f\"Tienes {edad} años. Eres una persona mayor. ¡Disfruta de tu experiencia!\")\n",
                "\n",
                "        #Preguntar si el usuario quiere ingresar otra edad\n",
                "        repetir = input('Quiere ingresar otra edad? (s/n): ')\n",
                "        if repetir != 's':\n",
                "            print('Gracias por usar el programa. Hasta Luego!')\n",
                "            break #termina el bucle o ciclo\n",
                "    except ValueError:\n",
                "        print(\"Error: Porvaor ingrese un valor númerico\")"
            ]
        },
        {
            "attachments": {},
            "cell_type": "markdown",
            "metadata": {
                "azdata_cell_guid": "7a387c19-3988-4cdd-a37b-33becdadbb46"
            },
            "source": [
                "## **3\\. Bucles**\n",
                "\n",
                "### 3.1. **Teoría**\n",
                "\n",
                "Los bucles permiten repetir un bloque de código varias veces. Python tiene dos tipos principales de bucles: `for` y `while`.\n",
                "\n",
                "- **Bucle `for`:** Se utiliza para iterar sobre una secuencia (listas, tuplas, cadenas, etc.).\n",
                "- **Bucle `while`:** Repite un bloque de código mientras una condición sea `True`.\n",
                "\n",
                "### 3.2. **Ejemplo de Código**\n",
                "\n",
                "### \n",
                "\n",
                "- **Bucle `for`:**"
            ]
        },
        {
            "cell_type": "code",
            "execution_count": 22,
            "metadata": {
                "azdata_cell_guid": "12496b36-600f-4f59-8607-58eafbbac4e5",
                "language": "python"
            },
            "outputs": [
                {
                    "name": "stdout",
                    "output_type": "stream",
                    "text": [
                        "Interación número 1\n",
                        "Interación número 2\n",
                        "Interación número 3\n",
                        "Interación número 4\n",
                        "Interación número 5\n",
                        "Interación número 6\n",
                        "Interación número 7\n",
                        "Interación número 8\n",
                        "Interación número 9\n"
                    ]
                }
            ],
            "source": [
                "# Ejemplo de bucle for\n",
                "\n",
                "for i in range(1,10):\n",
                "    print(f'Interación número {i}') "
            ]
        },
        {
            "cell_type": "code",
            "execution_count": 23,
            "metadata": {},
            "outputs": [
                {
                    "name": "stdout",
                    "output_type": "stream",
                    "text": [
                        "Interación número 0\n",
                        "Interación número 1\n",
                        "Interación número 2\n",
                        "Interación número 3\n",
                        "Interación número 4\n",
                        "Interación número 5\n",
                        "Interación número 6\n",
                        "Interación número 7\n",
                        "Interación número 8\n",
                        "Interación número 9\n"
                    ]
                }
            ],
            "source": [
                "for i in range(10):\n",
                "    print(f'Interación número {i}')"
            ]
        },
        {
            "attachments": {},
            "cell_type": "markdown",
            "metadata": {
                "azdata_cell_guid": "c24a4bae-ea4c-485d-8067-d5e07afb3435",
                "language": "python"
            },
            "source": [
                "### **Caso: Suma de numeros del 1 a la cantidad que defina el usuario.**\n",
                "\n",
                "Vamos a suponer que queremos calcular la suma de los números del 1 a la catidad que deficna el suario. Este caso es útil para entender cómo funciona el bucle `for`, ya que iteramos sobre una secuencia de números y realizamos una operación en cada iteración."
            ]
        },
        {
            "cell_type": "code",
            "execution_count": 28,
            "metadata": {
                "azdata_cell_guid": "49c58740-3080-45a0-b119-c5b144581977",
                "language": "python"
            },
            "outputs": [
                {
                    "name": "stdout",
                    "output_type": "stream",
                    "text": [
                        "La suma total es de 222778\n"
                    ]
                }
            ],
            "source": [
                "#Respuesta\n",
                "num = int(input('Ingrese el número hasta el que se va realizar la suma: '))\n",
                "#Usar for -> 5 = 1+2+3+4+5\n",
                "suma = 0\n",
                "for n in range (1,num + 1):\n",
                "    #print(n)\n",
                "    suma = suma + n    \n",
                "print(f'La suma total es de {suma}')"
            ]
        },
        {
            "attachments": {},
            "cell_type": "markdown",
            "metadata": {
                "azdata_cell_guid": "c0bcf79f-f9af-4761-81f7-ada74af0a7ec"
            },
            "source": [
                "### \n",
                "\n",
                "- **Bucle** `while`:"
            ]
        },
        {
            "cell_type": "markdown",
            "metadata": {
                "azdata_cell_guid": "a3aaa670-2151-4756-9264-85312d17674a",
                "language": "python",
                "tags": []
            },
            "source": [
                "# Ejemplo de bucle while\n",
                "# Ejemplo de bucle while\n",
                "contador = 1\n",
                "suma = 0 \n",
                "while contador <= 10:\n",
                "    suma =+ contador # suma = suma + contador\n",
                "    print(f'Contador : {contador}')\n",
                "    contador += 1\n",
                "print('La suma total es: ', suma)"
            ]
        },
        {
            "attachments": {},
            "cell_type": "markdown",
            "metadata": {
                "azdata_cell_guid": "2d7802f8-ded4-4357-8ac4-69fd427f1a51",
                "language": "python"
            },
            "source": [
                "### **Caso: Cálculo de Total de Compras**\n",
                "\n",
                "#### <span style=\"color: var(--vscode-foreground); font-weight: normal;\">Imagina que estás desarrollando un pequeño programa para una tienda. Los clientes ingresan el precio de varios productos que están comprando, uno por uno. El programa debe seguir pidiendo el precio de cada producto hasta que el usuario indique que no va a ingresar más productos, y al final, debe calcular y mostrar el total a pagar.</span>"
            ]
        },
        {
            "cell_type": "code",
            "execution_count": 30,
            "metadata": {
                "azdata_cell_guid": "fd2a5e98-6e47-475a-9006-7510558a271c",
                "language": "python",
                "tags": []
            },
            "outputs": [
                {
                    "name": "stdout",
                    "output_type": "stream",
                    "text": [
                        "Por favor, ingresa un número válido para el precio.\n",
                        "Por favor, ingresa un número válido para el precio.\n",
                        "Por favor, ingresa un número válido para el precio.\n",
                        "Por favor, ingresa un número válido para el precio.\n",
                        "Por favor, ingresa un número válido para el precio.\n",
                        "Por favor, ingresa un número válido para el precio.\n",
                        "Por favor, ingresa un número válido para el precio.\n",
                        "El total de tu compra es: $7888545.00\n"
                    ]
                }
            ],
            "source": [
                "#Respuesta\n",
                "def calcular_total_compras():\n",
                "    total = 0  # Inicializamos el total en 0\n",
                "    while True:\n",
                "        try:\n",
                "            # Pedir el precio del producto\n",
                "            precio = float(input(\"Ingresa el precio del producto (o escribe '0' para terminar): \"))\n",
                "            \n",
                "            # Verificar si el usuario quiere terminar\n",
                "            if precio == 0:\n",
                "                break  # Salir del bucle si el precio es 0\n",
                "            \n",
                "            if precio < 0:\n",
                "                print(\"El precio no puede ser negativo. Intenta de nuevo.\")\n",
                "                continue  # Volver a pedir el precio si es negativo\n",
                "\n",
                "            # Sumar el precio al total\n",
                "            total += precio\n",
                "\n",
                "        except ValueError:\n",
                "            print(\"Por favor, ingresa un número válido para el precio.\")\n",
                "\n",
                "    # Mostrar el total\n",
                "    print(f\"El total de tu compra es: ${total:.2f}\")\n",
                "\n",
                "# Ejecutar el programa\n",
                "calcular_total_compras()\n"
            ]
        },
        {
            "attachments": {},
            "cell_type": "markdown",
            "metadata": {
                "azdata_cell_guid": "10864839-331a-4069-8cb9-58123740ec63"
            },
            "source": [
                "### <mark>3.3. **Ejercicio Práctico -** Tabla de Multiplicar</mark>\n",
                "\n",
                "**Descripción:** Crea un programa que pida al usuario un número entero `n` y muestre la tabla de multiplicar de ese número del 1 al 10. Utiliza un ciclo `while` para generar la tabla.\n",
                "\n",
                "**Instrucciones:**\n",
                "\n",
                "1. Solicita al usuario que ingrese un número entero.\n",
                "2. Inicializa una variable `i` en 1.\n",
                "3. Utiliza un ciclo `while` para que mientras `i` sea menor o igual a 10:\n",
                "    - Multiplica `n` por `i` y muestra el resultado en el formato \"n x i = resultado\".\n",
                "    - Incrementa `i` en 1.\n",
                "4. Al final, muestra la tabla completa.\n",
                "\n",
                "**Ejemplo de salida:**\n",
                "\n",
                "```\n",
                "\n",
                "Ingrese un número entero: 3\n",
                "Tabla de multiplicar de 3:\n",
                "\n",
                "3 x 1 = 3\n",
                "3 x 2 = 6\n",
                "3 x 3 = 9\n",
                "3 x 4 = 12\n",
                "3 x 5 = 15\n",
                "3 x 6 = 18\n",
                "3 x 7 = 21\n",
                "3 x 8 = 24\n",
                "3 x 9 = 27\n",
                "3 x 10 = 30\n",
                "\n",
                "```"
            ]
        },
        {
            "cell_type": "code",
            "execution_count": 3,
            "metadata": {
                "azdata_cell_guid": "0ac67dcf-9e16-4022-94c3-fd2af98a43fd",
                "language": "python"
            },
            "outputs": [],
            "source": [
                "#Respuesta\n",
                "#Respuesta\n",
                "i = 1\n",
                "while i <= 10:\n",
                "    #Respuesta\n",
                "    \n",
                "    i += 1# i = i + 1\n"
            ]
        },
        {
            "attachments": {},
            "cell_type": "markdown",
            "metadata": {
                "azdata_cell_guid": "57643192-1d41-4b05-9716-bb07f2c061fe",
                "language": "python"
            },
            "source": [
                "#### <mark>3.3. Ejercicio Práctico</mark>\n",
                "\n",
                "Escribe un programa que imprima los números del 1 al 10 usando un bucle for. Luego, realiza el mismo ejercicio con un bucle while."
            ]
        },
        {
            "cell_type": "markdown",
            "metadata": {},
            "source": []
        },
        {
            "cell_type": "code",
            "execution_count": null,
            "metadata": {
                "azdata_cell_guid": "f3753d98-fffa-464b-aa95-e6129cc6c3b6",
                "language": "python"
            },
            "outputs": [],
            "source": [
                "#Respuesta"
            ]
        },
        {
            "cell_type": "code",
            "execution_count": null,
            "metadata": {
                "azdata_cell_guid": "34bbf155-7b0d-4faf-afd8-162d9192da2b",
                "language": "python"
            },
            "outputs": [],
            "source": [
                "**Caso 2: Suma de Números**\n",
                "- **Presentación:** Supongamos que tienes una lista de números y quieres calcular la suma total. ¿Cómo podrías hacer esto en Python?    \n",
                "- **Salida Esperada:**    \n",
                "    - La suma total de los números en la lista.\n",
                "- **Preguntas adicionales:**    \n",
                "    - ¿Cómo podrías calcular el promedio de los números?\n",
                "    - ¿Y si quisieras encontrar el número más grande y el más pequeño?\n",
                "    - ¿Puedes modificar el código para que solo sume los números pares?"
            ]
        },
        {
            "cell_type": "code",
            "execution_count": null,
            "metadata": {},
            "outputs": [
                {
                    "name": "stdout",
                    "output_type": "stream",
                    "text": [
                        "luis\n",
                        "lucas\n",
                        "Elver\n",
                        "Marielos\n",
                        "juan\n",
                        "\n",
                        "Este es mi Tercer \n",
                        "juan\n",
                        "\n",
                        "Saludando a mis amigos juan\n"
                    ]
                }
            ],
            "source": [
                "#Respuesta\n",
                "amigos = ['luis', 'lucas','Elver','Marielos','juan']\n",
                "\n",
                "# Una lista impresa con todos los nombres de los amigos.\n",
                "for amigo in amigos:\n",
                "    print(amigo) \n",
                "# El nombre del tercer amigo.\n",
                "print('\\nEste es mi Tercer ')\n",
                "#######\n",
                "print ('juan')\n",
                "# Un saludo personalizado para cada amigo.\n",
                "print('\\nSaludando a mis amigos juan , ')"
            ]
        },
        {
            "attachments": {},
            "cell_type": "markdown",
            "metadata": {
                "azdata_cell_guid": "08d5eece-75c3-4e51-83b9-9388510c5dd5"
            },
            "source": [
                "## **4\\. Listas y su Procesamiento**\n",
                "\n",
                "### 4.1. **Teoría**\n",
                "\n",
                "Una lista es una estructura de datos en Python que almacena múltiples elementos en un solo objeto. Las listas son mutables, lo que significa que podemos modificar su contenido después de haberlas creado.\n",
                "\n",
                "### **Operaciones comunes con listas:**\n",
                "\n",
                "- **Añadir elementos:** `append()`, `insert()`\n",
                "- **Eliminar elementos:** `remove()`, `pop()`\n",
                "- **Acceso a elementos:** Índices\n",
                "- **Slicing:** Obtener sublistas\n",
                "\n",
                "### 4.2. **Ejemplo de Código**"
            ]
        },
        {
            "cell_type": "code",
            "execution_count": 5,
            "metadata": {
                "azdata_cell_guid": "4450cc96-4f36-4404-b39b-0aa88f4412e8",
                "language": "python"
            },
            "outputs": [
                {
                    "name": "stdout",
                    "output_type": "stream",
                    "text": [
                        "['manzana', 'pera', 'uva']\n"
                    ]
                }
            ],
            "source": [
                "# Ejemplo de procesamiento de listas\n",
                "# Ejemplo de procesamiento de listas\n",
                "#             0        1       2\n",
                "frutas = ['manzana', 'pera', 'uva']\n",
                "\n",
                "print(frutas)"
            ]
        },
        {
            "cell_type": "code",
            "execution_count": 7,
            "metadata": {},
            "outputs": [
                {
                    "name": "stdout",
                    "output_type": "stream",
                    "text": [
                        "['manzana', 'pera', 'uva', 'fresa']\n"
                    ]
                }
            ],
            "source": [
                "frutas.append('fresa')\n",
                "print(frutas)"
            ]
        },
        {
            "cell_type": "code",
            "execution_count": 8,
            "metadata": {},
            "outputs": [
                {
                    "name": "stdout",
                    "output_type": "stream",
                    "text": [
                        "['manzana', 'pera', 'banano', 'uva', 'fresa']\n"
                    ]
                }
            ],
            "source": [
                "#   0           1      2       3\n",
                "#['manzana', 'pera', 'uva', 'fresa']\n",
                "frutas.insert(2,'banano')\n",
                "print(frutas)"
            ]
        },
        {
            "cell_type": "code",
            "execution_count": 10,
            "metadata": {},
            "outputs": [
                {
                    "name": "stdout",
                    "output_type": "stream",
                    "text": [
                        "['manzana', 'pera', 'banano', 'uva', 'fresa']\n",
                        "['manzana', 'pera', 'uva', 'fresa']\n"
                    ]
                }
            ],
            "source": [
                "print(frutas)\n",
                "frutas.remove('banano')\n",
                "print(frutas)"
            ]
        },
        {
            "attachments": {},
            "cell_type": "markdown",
            "metadata": {
                "azdata_cell_guid": "f8af47ce-1967-48b9-befe-7c36b15ba133"
            },
            "source": [
                "### <mark>4.3. **Ejercicio Práctico**</mark>\n",
                "\n",
                "Imagina que quieres crear una lista de tus amigos. ¿Cómo podrías almacenar estos nombres en Python? Una vez que tengas la lista, ¿cómo podrías agregar un nuevo amigo? ¿Y cómo podrías saludar a cada uno de ellos?\n",
                "\n",
                "```\n",
                "amigos = [\"Ana\", \"Juan\", \"María\", \"Pedro\"\\] \\# ... (resto del código)\n",
                "\n",
                "```\n",
                "\n",
                "**Salida Esperada:**\n",
                "\n",
                "```\n",
                "- Una lista impresa con todos los nombres de los amigos.\n",
                "- El nombre del tercer amigo.\n",
                "- Un saludo personalizado para cada amigo.\n",
                "\n",
                "```\n",
                "\n",
                "**Preguntas adicionales:**\n",
                "\n",
                "```\n",
                "- ¿Cómo podrías eliminar a un amigo de la lista?\n",
                "- ¿Qué pasa si quieres cambiar el nombre de un amigo?\n",
                "- ¿Puedes ordenar la lista alfabéticamente?\n",
                "\n",
                "```"
            ]
        },
        {
            "cell_type": "code",
            "execution_count": null,
            "metadata": {
                "azdata_cell_guid": "de9d885b-ca64-4e10-b8c6-8afd4c69239c",
                "language": "python"
            },
            "outputs": [],
            "source": [
                "#Respuesta"
            ]
        },
        {
            "attachments": {},
            "cell_type": "markdown",
            "metadata": {
                "azdata_cell_guid": "2a24eed7-de3f-4200-86f6-3a3b138d9253"
            },
            "source": [
                "## **4\\. Listas y su Procesamiento**\n",
                "\n",
                "### 4.1. **Teoría**\n",
                "\n",
                "Una lista es una estructura de datos en Python que almacena múltiples elementos en un solo objeto. Las listas son mutables, lo que significa que podemos modificar su contenido después de haberlas creado.\n",
                "\n",
                "### **Operaciones comunes con listas:**\n",
                "\n",
                "- **Añadir elementos:** `append()`, `insert()`\n",
                "- **Eliminar elementos:** `remove()`, `pop()`\n",
                "- **Acceso a elementos:** Índices\n",
                "- **Slicing:** Obtener sublistas\n",
                "\n",
                "### 4.2. **Ejemplo de Código**"
            ]
        },
        {
            "cell_type": "code",
            "execution_count": null,
            "metadata": {
                "azdata_cell_guid": "11f0ac54-2638-45a6-8f22-5268289ac86d",
                "language": "python",
                "tags": []
            },
            "outputs": [],
            "source": [
                "# Ejemplo de procesamiento de listas\n",
                "#             0          1          2"
            ]
        },
        {
            "attachments": {},
            "cell_type": "markdown",
            "metadata": {
                "azdata_cell_guid": "fe863a2c-41ac-4322-a94d-6f2154b12c23",
                "language": "python"
            },
            "source": [
                "**append(elemento):**\n",
                "\n",
                "- Agrega un elemento al final de la lista."
            ]
        },
        {
            "cell_type": "code",
            "execution_count": null,
            "metadata": {
                "azdata_cell_guid": "390d1287-7bdd-43f1-8338-e09b1ab5b9b7",
                "language": "python"
            },
            "outputs": [],
            "source": []
        },
        {
            "attachments": {},
            "cell_type": "markdown",
            "metadata": {
                "azdata_cell_guid": "1feeb01b-5c04-4ba0-bef6-e682262c92ca",
                "language": "python"
            },
            "source": [
                "**insert(índice, elemento):**\n",
                "\n",
                "- Inserta un elemento en una posición específica de la lista.\n",
                "- El índice indica la posición antes de la cual se insertará el elemento."
            ]
        },
        {
            "cell_type": "code",
            "execution_count": null,
            "metadata": {
                "azdata_cell_guid": "7ce0bb35-c66f-4d06-9a89-e0a2dca53266",
                "language": "python"
            },
            "outputs": [],
            "source": []
        },
        {
            "attachments": {},
            "cell_type": "markdown",
            "metadata": {
                "azdata_cell_guid": "26ac0ea0-af16-4b3e-aa56-9442cf11eeb2",
                "language": "python"
            },
            "source": [
                "**remove(elemento):**\n",
                "\n",
                "- Elimina la primera ocurrencia de un elemento específico de la lista.\n",
                "- Si el elemento no existe, se produce un error."
            ]
        },
        {
            "cell_type": "code",
            "execution_count": null,
            "metadata": {
                "azdata_cell_guid": "17b9619a-2b82-48be-b955-f27112bb03cb",
                "language": "python"
            },
            "outputs": [],
            "source": []
        },
        {
            "attachments": {},
            "cell_type": "markdown",
            "metadata": {
                "azdata_cell_guid": "aed96f34-e449-4d8c-b709-d2f5e5b4e4eb",
                "language": "python"
            },
            "source": [
                "**pop(índice):**\n",
                "\n",
                "- Elimina y devuelve el elemento en la posición indicada.\n",
                "- Si no se especifica un índice, elimina y devuelve el último elemento."
            ]
        },
        {
            "cell_type": "code",
            "execution_count": null,
            "metadata": {
                "azdata_cell_guid": "a13c2808-612f-45b2-a935-1dc4333b8677",
                "language": "python"
            },
            "outputs": [],
            "source": []
        },
        {
            "attachments": {},
            "cell_type": "markdown",
            "metadata": {
                "azdata_cell_guid": "ee2dbb3e-efbf-4cb9-aa30-faae355f31fb",
                "language": "python"
            },
            "source": [
                "### **<mark>Caso Final</mark>** \n",
                "\n",
                "  \n",
                "\n",
                "Un profesor quiere llevar un registro de los nombres de sus estudiantes. Ayúdale a crear un programa que le permita agregar nuevos estudiantes, ver la lista completa y acceder a la información de un estudiante en particular."
            ]
        },
        {
            "cell_type": "code",
            "execution_count": 21,
            "metadata": {
                "azdata_cell_guid": "9632a0a3-3979-4a34-b08b-82179de35bc0",
                "language": "python"
            },
            "outputs": [
                {
                    "name": "stdout",
                    "output_type": "stream",
                    "text": [
                        "\n",
                        "--- Menú del Registro de Estudiantes ---\n",
                        "1. Agregar nuevo estudiante\n",
                        "2. Ver lista completa de estudiantes\n",
                        "3. Consultar estudiante por número\n",
                        "4. Salir\n"
                    ]
                },
                {
                    "ename": "NameError",
                    "evalue": "name 'luis' is not defined",
                    "output_type": "error",
                    "traceback": [
                        "\u001b[31m---------------------------------------------------------------------------\u001b[39m",
                        "\u001b[31mNameError\u001b[39m                                 Traceback (most recent call last)",
                        "\u001b[36mCell\u001b[39m\u001b[36m \u001b[39m\u001b[32mIn[21]\u001b[39m\u001b[32m, line 17\u001b[39m\n\u001b[32m     15\u001b[39m \u001b[38;5;28;01mif\u001b[39;00m opcion == \u001b[33m\"\u001b[39m\u001b[33m1\u001b[39m\u001b[33m\"\u001b[39m:\n\u001b[32m     16\u001b[39m     nombre = \u001b[38;5;28minput\u001b[39m(\u001b[33m\"\u001b[39m\u001b[33mIngrese el nombre del estudiante: \u001b[39m\u001b[33m\"\u001b[39m)\n\u001b[32m---> \u001b[39m\u001b[32m17\u001b[39m     estudiantes.append(\u001b[43mluis\u001b[49m)\n\u001b[32m     18\u001b[39m     \u001b[38;5;28mprint\u001b[39m(\u001b[33mf\u001b[39m\u001b[33m\"\u001b[39m\u001b[33mEstudiante \u001b[39m\u001b[33m'\u001b[39m\u001b[38;5;132;01m{\u001b[39;00mluis\u001b[38;5;132;01m}\u001b[39;00m\u001b[33m'\u001b[39m\u001b[33m agregado correctamente.\u001b[39m\u001b[33m\"\u001b[39m)\n\u001b[32m     20\u001b[39m \u001b[38;5;28;01melif\u001b[39;00m opcion == \u001b[33m\"\u001b[39m\u001b[33m2\u001b[39m\u001b[33m\"\u001b[39m:\n",
                        "\u001b[31mNameError\u001b[39m: name 'luis' is not defined"
                    ]
                }
            ],
            "source": [
                "# Lista para guardar los nombres de los estudiantes\n",
                "estudiantes = []\n",
                "\n",
                "def mostrar_menu():\n",
                "    print(\"\\n--- Menú del Registro de Estudiantes ---\")\n",
                "    print(\"1. Agregar nuevo estudiante\")\n",
                "    print(\"2. Ver lista completa de estudiantes\")\n",
                "    print(\"3. Consultar estudiante por número\")\n",
                "    print(\"4. Salir\")\n",
                "\n",
                "while True:\n",
                "    mostrar_menu()\n",
                "    opcion = input(\"Seleccione una opción (1-4): \")\n",
                "\n",
                "    if opcion == \"1\":\n",
                "        nombre = input(\"Ingrese el nombre del estudiante: \")\n",
                "        estudiantes.append(luis)\n",
                "        print(f\"Estudiante '{luis}' agregado correctamente.\")\n",
                "\n",
                "    elif opcion == \"2\":\n",
                "        if len(estudiantes) == 0:\n",
                "            print(\"La lista está vacía.\")\n",
                "        else:\n",
                "            print(\"\\nLista de estudiantes:\")\n",
                "            for i, lucas in enumerate(estudiantes, start=1):\n",
                "                print(f\"{i}. {lucas}\")\n",
                "\n",
                "    elif opcion == \"3\":\n",
                "        if len(estudiantes) == 0:\n",
                "            print(\"No hay estudiantes registrados.\")\n",
                "        else:\n",
                "            numero = int(input(\"Ingrese el número del estudiante que desea consultar: \"))\n",
                "            if 1 <= numero <= len(estudiantes):\n",
                "                print(f\"Estudiante #{numero}: {estudiantes[numero - 1]}\")\n",
                "            else:\n",
                "                print(\"Número inválido. Intente de nuevo.\")\n",
                "\n",
                "    elif opcion == \"4\":\n",
                "        print(\"Saliendo del programa. ¡Hasta luego!\")\n",
                "        break\n",
                "\n",
                "    else:\n",
                "        print(\"Opción no válida. Intente nuevamente.\")\n"
            ]
        }
    ],
    "metadata": {
        "kernelspec": {
            "display_name": "Python 3",
            "language": "python",
            "name": "python3"
        },
        "language_info": {
            "codemirror_mode": {
                "name": "ipython",
                "version": 3
            },
            "file_extension": ".py",
            "mimetype": "text/x-python",
            "name": "python",
            "nbconvert_exporter": "python",
            "pygments_lexer": "ipython3",
            "version": "3.13.3"
        }
    },
    "nbformat": 4,
    "nbformat_minor": 2
}
