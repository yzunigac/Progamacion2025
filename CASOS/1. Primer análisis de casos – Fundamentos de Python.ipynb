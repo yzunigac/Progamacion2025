{
 "cells": [
  {
   "cell_type": "markdown",
   "metadata": {
    "id": "q7R3dARlFtDY"
   },
   "source": [
    "# Primer análisis de casos – Fundamentos de Python\n",
    "\n",
    "## Objetivo:\n",
    "En esta tarea, practicaremos los fundamentos básicos de Python resolviendo **cuatro ejercicios** de la lista planteada. Cada solución debe detallar **entradas**, **procesos** y **salidas** para comprender mejor cómo funciona cada problema.\n",
    "\n",
    "### Formato para cada ejercicio (seleccionemos 4 ejercicios):\n",
    "#### Ejercicio X:\n",
    "- **Descripción del problema:** Incluiremos el enunciado del ejercicio.\n",
    "- **Entradas:** Detallaremos los datos que debemos ingresar.\n",
    "- **Proceso:** Explicaremos cómo resolveremos el problema (algoritmo o fórmula).\n",
    "- **Salidas:** Describiremos el resultado que veremos en pantalla al final del proceso.\n",
    "\n",
    "#### Código del ejercicio:\n",
    "- Escribiremos la solución del ejercicio en una celda de código Python.\n",
    "- Agregaremos comentarios para explicar el código y hacerlo más comprensible.\n",
    "\n",
    "### Conclusión:\n",
    "- Al final, resumiremos lo que hemos aprendido resolviendo los ejercicios.\n",
    "- Reflexionaremos sobre cómo Python nos ayuda a solucionar problemas cotidianos.\n",
    "\n",
    "## Formato de entrega del informe en PDF:\n",
    "\n",
    "Debemos exportar nuestro notebook de Jupyter a formato PDF, cumpliendo con las siguientes pautas:\n",
    "\n",
    "### Portada:\n",
    "- Título: \"Primer análisis de casos – Fundamentos de Python\".\n",
    "- Nuestro nombre completo.\n",
    "- Fecha de entrega.\n",
    "- Curso.\n",
    "\n",
    "### Cuerpo del informe:\n",
    "- **Introducción:** Explicaremos brevemente los ejercicios que hemos seleccionado.\n",
    "- **Desarrollo de cada ejercicio:**\n",
    "  - Descripción del problema.\n",
    "  - Entradas, procesos y salidas detallados.\n",
    "  - Capturas de pantalla del código y del resultado de la ejecución.\n",
    "\n",
    "### Conclusión:\n",
    "- Reflexionaremos sobre el aprendizaje y las posibles dificultades que enfrentamos durante la resolución de los ejercicios.\n",
    "\n",
    "## Lista de ejercicios (Seleccionemos 4):\n",
    "\n",
    "1. Calcular el área de un triángulo a partir de la base y altura ingresadas.\n",
    "2. Convertir una cantidad de dólares a colones.\n",
    "3. Convertir grados centígrados a Fahrenheit.\n",
    "4. Mostrar cuántos segundos tiene un lustro.\n",
    "5. Calcular el tiempo que le toma a la luz viajar del sol a Marte.\n",
    "6. Calcular cuántas vueltas da una llanta en 1 km.\n",
    "7. Calcular la longitud de la sombra de un edificio de 20 metros.\n",
    "8. Comparar si la edad ingresada por dos usuarios es la misma.\n",
    "9. Calcular cuántos meses han transcurrido desde nuestra fecha de nacimiento.\n",
    "10. Calcular el promedio de un alumno en 5 materias.\n",
    "\n",
    "## Proceso de entrega:\n",
    "1. Resolveremos 4 de los ejercicios propuestos en un notebook de.\n",
    "2. Exportaremos el notebook a PDF siguiendo el formato establecido.\n",
    "3. Subiremos el PDF y el archivo de notebook (.ipynb) a la plataforma antes de la fecha límite.\n"
   ]
  },
  {
   "cell_type": "markdown",
   "metadata": {},
   "source": [
    "# Problema #1\n",
    "\n",
    "### Convertir una cantidad de dólares a colones.\n",
    "\n",
    "## Entrada: \n",
    "Leer La cantidad de dolares\n",
    "Leer tipo cambio\n",
    "\n",
    "## Proceso:\n",
    "\n",
    "cantidad_dolares * tipo_cambio\n",
    "\n",
    "## Salida:\n",
    "\n",
    "resultado de la multiplicacion"
   ]
  },
  {
   "cell_type": "code",
   "execution_count": 1,
   "metadata": {
    "colab": {
     "base_uri": "https://localhost:8080/"
    },
    "executionInfo": {
     "elapsed": 10485,
     "status": "ok",
     "timestamp": 1712064323417,
     "user": {
      "displayName": "Andrés Mena Abarca",
      "userId": "07418092259593836578"
     },
     "user_tz": 360
    },
    "id": "n3rOsUESDeTs",
    "outputId": "1cd40ed7-f1d2-4b89-bca5-696418df0021"
   },
   "outputs": [],
   "source": [
    "# Código solución aqui\n"
   ]
  },
  {
   "cell_type": "markdown",
   "metadata": {},
   "source": [
    "# Problema #2\n",
    "\n",
    "### Definir problema\n",
    "\n",
    "## Entrada:\n",
    "\n",
    "## Proceso:\n",
    "\n",
    "## Salida:"
   ]
  },
  {
   "cell_type": "code",
   "execution_count": null,
   "metadata": {},
   "outputs": [],
   "source": [
    "# Código solucción aqui\n",
    "\n",
    "import math\n",
    "\n",
    "Diámetro de la llanta en metros (por ejemplo, 0.7 m)\n",
    "diametro = 0.7\n",
    "\n",
    "Circunferencia = π * diámetro\n",
    "circunferencia = math.pi * diametro\n",
    "\n",
    "Distancia total en metros (1 km = 1000 m)\n",
    "distancia = 1000\n",
    "\n",
    "Número de vueltas = distancia / circunferencia\n",
    "vueltas = distancia / circunferencia\n",
    "\n",
    "print(\"La llanta da aproximadamente\", round(vueltas, 2), \"vueltas en 1 km.\")\n",
    " \n",
    "\n",
    "Puedes cambiar el valor de diametro según la llanta que estés considerando."
   ]
  },
  {
   "cell_type": "markdown",
   "metadata": {},
   "source": [
    "# Problema #3\n",
    "\n",
    "### Definir problema\n",
    "\n",
    "## Entrada:\n",
    "\n",
    "## Proceso:\n",
    "\n",
    "## Salida:"
   ]
  },
  {
   "cell_type": "code",
   "execution_count": null,
   "metadata": {},
   "outputs": [],
   "source": [
    "# Código solucción aqui\n",
    "\n",
    "Distancia promedio del Sol a Marte en kilómetros\n",
    "distancia_km = 227_940_000\n",
    "\n",
    "Velocidad de la luz en km/s\n",
    "velocidad_luz = 299_792\n",
    "\n",
    "Tiempo = distancia / velocidad\n",
    "tiempo_segundos = distancia_km / velocidad_luz\n",
    "\n",
    "print(\"La luz tarda aproximadamente\", round(tiempo_segundos, 2), \"segundos en llegar del Sol a Marte.\")"
   ]
  },
  {
   "cell_type": "markdown",
   "metadata": {},
   "source": [
    "# Problema #4\n",
    "\n",
    "### Definir problema\n",
    "Mostrar cuántos segundos tiene un lustro.\n",
    "## Entrada:\n",
    "son 5 años \n",
    "## Proceso:\n",
    "calcula cuanto es la cantidad \n",
    "## Salida:\n",
    "es la suma de todos los datos"
   ]
  },
  {
   "cell_type": "code",
   "execution_count": null,
   "metadata": {},
   "outputs": [
    {
     "ename": "SyntaxError",
     "evalue": "invalid syntax (1763520716.py, line 1)",
     "output_type": "error",
     "traceback": [
      "  \u001b[36mCell\u001b[39m\u001b[36m \u001b[39m\u001b[32mIn[4]\u001b[39m\u001b[32m, line 1\u001b[39m\n\u001b[31m    \u001b[39m\u001b[31mUn año tiene 365 días (sin contar años bisiestos)\u001b[39m\n       ^\n\u001b[31mSyntaxError\u001b[39m\u001b[31m:\u001b[39m invalid syntax\n"
     ]
    }
   ],
   "source": [
    "Un lustro son 5 años\n",
    "años = 5\n",
    "dias_por_año = 365\n",
    "horas_por_dia = 24\n",
    "minutos_por_hora = 60\n",
    "segundos_por_minuto = 60\n",
    "\n",
    "Cálculo total de segundos\n",
    "segundos_en_un_lustro = años * dias_por_año * horas_por_dia * minutos_por_hora * segundos_por_minuto\n",
    "\n",
    "print(\"Un lustro tiene\", segundos_en_un_lustro, \"segundos.\")"
   ]
  }
 ],
 "metadata": {
  "colab": {
   "provenance": []
  },
  "kernelspec": {
   "display_name": "Python 3",
   "name": "python3"
  },
  "language_info": {
   "codemirror_mode": {
    "name": "ipython",
    "version": 3
   },
   "file_extension": ".py",
   "mimetype": "text/x-python",
   "name": "python",
   "nbconvert_exporter": "python",
   "pygments_lexer": "ipython3",
   "version": "3.13.3"
  }
 },
 "nbformat": 4,
 "nbformat_minor": 0
}
